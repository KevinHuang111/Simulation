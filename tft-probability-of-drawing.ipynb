{
 "cells": [
  {
   "cell_type": "code",
   "execution_count": 1,
   "id": "e812b7f4",
   "metadata": {
    "_cell_guid": "b1076dfc-b9ad-4769-8c92-a6c4dae69d19",
    "_uuid": "8f2839f25d086af736a60e9eeb907d3b93b6e0e5",
    "execution": {
     "iopub.execute_input": "2024-04-16T19:08:44.536874Z",
     "iopub.status.busy": "2024-04-16T19:08:44.535957Z",
     "iopub.status.idle": "2024-04-16T19:08:45.631268Z",
     "shell.execute_reply": "2024-04-16T19:08:45.629682Z"
    },
    "papermill": {
     "duration": 1.10632,
     "end_time": "2024-04-16T19:08:45.633974",
     "exception": false,
     "start_time": "2024-04-16T19:08:44.527654",
     "status": "completed"
    },
    "tags": []
   },
   "outputs": [
    {
     "name": "stdout",
     "output_type": "stream",
     "text": [
      "/kaggle/input/tft-teamfight-tatics-current-set-catalogue/items.csv\n",
      "/kaggle/input/tft-teamfight-tatics-current-set-catalogue/encounters.csv\n",
      "/kaggle/input/tft-teamfight-tatics-current-set-catalogue/champions.csv\n",
      "/kaggle/input/tft-teamfight-tatics-current-set-catalogue/rolling_chances.csv\n",
      "/kaggle/input/tft-teamfight-tatics-current-set-catalogue/synergies.csv\n"
     ]
    }
   ],
   "source": [
    "# This Python 3 environment comes with many helpful analytics libraries installed\n",
    "# It is defined by the kaggle/python Docker image: https://github.com/kaggle/docker-python\n",
    "# For example, here's several helpful packages to load\n",
    "\n",
    "import numpy as np # linear algebra\n",
    "import pandas as pd # data processing, CSV file I/O (e.g. pd.read_csv)\n",
    "\n",
    "# Input data files are available in the read-only \"../input/\" directory\n",
    "# For example, running this (by clicking run or pressing Shift+Enter) will list all files under the input directory\n",
    "\n",
    "import os\n",
    "for dirname, _, filenames in os.walk('/kaggle/input'):\n",
    "    for filename in filenames:\n",
    "        print(os.path.join(dirname, filename))\n",
    "\n",
    "# You can write up to 20GB to the current directory (/kaggle/working/) that gets preserved as output when you create a version using \"Save & Run All\" \n",
    "# You can also write temporary files to /kaggle/temp/, but they won't be saved outside of the current session"
   ]
  },
  {
   "cell_type": "code",
   "execution_count": 2,
   "id": "1217fb04",
   "metadata": {
    "execution": {
     "iopub.execute_input": "2024-04-16T19:08:45.649063Z",
     "iopub.status.busy": "2024-04-16T19:08:45.648506Z",
     "iopub.status.idle": "2024-04-16T19:08:45.669742Z",
     "shell.execute_reply": "2024-04-16T19:08:45.668542Z"
    },
    "papermill": {
     "duration": 0.032669,
     "end_time": "2024-04-16T19:08:45.673063",
     "exception": false,
     "start_time": "2024-04-16T19:08:45.640394",
     "status": "completed"
    },
    "tags": []
   },
   "outputs": [],
   "source": [
    "df = pd.read_csv('/kaggle/input/tft-teamfight-tatics-current-set-catalogue/champions.csv')"
   ]
  },
  {
   "cell_type": "code",
   "execution_count": 3,
   "id": "1931d5e4",
   "metadata": {
    "execution": {
     "iopub.execute_input": "2024-04-16T19:08:45.688292Z",
     "iopub.status.busy": "2024-04-16T19:08:45.687466Z",
     "iopub.status.idle": "2024-04-16T19:08:45.720213Z",
     "shell.execute_reply": "2024-04-16T19:08:45.718555Z"
    },
    "papermill": {
     "duration": 0.043742,
     "end_time": "2024-04-16T19:08:45.723381",
     "exception": false,
     "start_time": "2024-04-16T19:08:45.679639",
     "status": "completed"
    },
    "tags": []
   },
   "outputs": [
    {
     "name": "stdout",
     "output_type": "stream",
     "text": [
      "<class 'pandas.core.frame.DataFrame'>\n",
      "RangeIndex: 60 entries, 0 to 59\n",
      "Data columns (total 15 columns):\n",
      " #   Column               Non-Null Count  Dtype  \n",
      "---  ------               --------------  -----  \n",
      " 0   Name                 60 non-null     object \n",
      " 1   Cost                 60 non-null     int64  \n",
      " 2   Health               60 non-null     object \n",
      " 3   Armor                60 non-null     int64  \n",
      " 4   MR                   60 non-null     int64  \n",
      " 5   Ability Power        60 non-null     int64  \n",
      " 6   DPS                  60 non-null     object \n",
      " 7   Damage               60 non-null     object \n",
      " 8   Atk Spd              60 non-null     float64\n",
      " 9   Crit Rate            60 non-null     object \n",
      " 10  Range                60 non-null     int64  \n",
      " 11  Synergies            60 non-null     object \n",
      " 12  Ability              60 non-null     object \n",
      " 13  Ability Cost         60 non-null     int64  \n",
      " 14  Ability Description  60 non-null     object \n",
      "dtypes: float64(1), int64(6), object(8)\n",
      "memory usage: 7.2+ KB\n"
     ]
    }
   ],
   "source": [
    "df.info()"
   ]
  },
  {
   "cell_type": "code",
   "execution_count": 4,
   "id": "1b9aace0",
   "metadata": {
    "execution": {
     "iopub.execute_input": "2024-04-16T19:08:45.738719Z",
     "iopub.status.busy": "2024-04-16T19:08:45.738344Z",
     "iopub.status.idle": "2024-04-16T19:08:45.749590Z",
     "shell.execute_reply": "2024-04-16T19:08:45.748116Z"
    },
    "papermill": {
     "duration": 0.022378,
     "end_time": "2024-04-16T19:08:45.752527",
     "exception": false,
     "start_time": "2024-04-16T19:08:45.730149",
     "status": "completed"
    },
    "tags": []
   },
   "outputs": [
    {
     "data": {
      "text/plain": [
       "13"
      ]
     },
     "execution_count": 4,
     "metadata": {},
     "output_type": "execute_result"
    }
   ],
   "source": [
    " (df['Cost'] == 1).sum()"
   ]
  },
  {
   "cell_type": "code",
   "execution_count": 5,
   "id": "c6f9a754",
   "metadata": {
    "execution": {
     "iopub.execute_input": "2024-04-16T19:08:45.768589Z",
     "iopub.status.busy": "2024-04-16T19:08:45.767233Z",
     "iopub.status.idle": "2024-04-16T19:08:45.778283Z",
     "shell.execute_reply": "2024-04-16T19:08:45.776324Z"
    },
    "papermill": {
     "duration": 0.022959,
     "end_time": "2024-04-16T19:08:45.781878",
     "exception": false,
     "start_time": "2024-04-16T19:08:45.758919",
     "status": "completed"
    },
    "tags": []
   },
   "outputs": [
    {
     "data": {
      "text/plain": [
       "13"
      ]
     },
     "execution_count": 5,
     "metadata": {},
     "output_type": "execute_result"
    }
   ],
   "source": [
    " (df['Cost'] == 2).sum()"
   ]
  },
  {
   "cell_type": "code",
   "execution_count": 6,
   "id": "9cdbf5bf",
   "metadata": {
    "execution": {
     "iopub.execute_input": "2024-04-16T19:08:45.800769Z",
     "iopub.status.busy": "2024-04-16T19:08:45.800226Z",
     "iopub.status.idle": "2024-04-16T19:08:45.809917Z",
     "shell.execute_reply": "2024-04-16T19:08:45.808453Z"
    },
    "papermill": {
     "duration": 0.023283,
     "end_time": "2024-04-16T19:08:45.813108",
     "exception": false,
     "start_time": "2024-04-16T19:08:45.789825",
     "status": "completed"
    },
    "tags": []
   },
   "outputs": [
    {
     "data": {
      "text/plain": [
       "13"
      ]
     },
     "execution_count": 6,
     "metadata": {},
     "output_type": "execute_result"
    }
   ],
   "source": [
    " (df['Cost'] == 3).sum()"
   ]
  },
  {
   "cell_type": "code",
   "execution_count": 7,
   "id": "363a4d09",
   "metadata": {
    "execution": {
     "iopub.execute_input": "2024-04-16T19:08:45.830377Z",
     "iopub.status.busy": "2024-04-16T19:08:45.829901Z",
     "iopub.status.idle": "2024-04-16T19:08:45.840031Z",
     "shell.execute_reply": "2024-04-16T19:08:45.838303Z"
    },
    "papermill": {
     "duration": 0.022615,
     "end_time": "2024-04-16T19:08:45.843296",
     "exception": false,
     "start_time": "2024-04-16T19:08:45.820681",
     "status": "completed"
    },
    "tags": []
   },
   "outputs": [
    {
     "data": {
      "text/plain": [
       "12"
      ]
     },
     "execution_count": 7,
     "metadata": {},
     "output_type": "execute_result"
    }
   ],
   "source": [
    " (df['Cost'] == 4).sum()"
   ]
  },
  {
   "cell_type": "code",
   "execution_count": 8,
   "id": "abd14b14",
   "metadata": {
    "execution": {
     "iopub.execute_input": "2024-04-16T19:08:45.861402Z",
     "iopub.status.busy": "2024-04-16T19:08:45.860575Z",
     "iopub.status.idle": "2024-04-16T19:08:45.871527Z",
     "shell.execute_reply": "2024-04-16T19:08:45.869141Z"
    },
    "papermill": {
     "duration": 0.024334,
     "end_time": "2024-04-16T19:08:45.875124",
     "exception": false,
     "start_time": "2024-04-16T19:08:45.850790",
     "status": "completed"
    },
    "tags": []
   },
   "outputs": [
    {
     "data": {
      "text/plain": [
       "9"
      ]
     },
     "execution_count": 8,
     "metadata": {},
     "output_type": "execute_result"
    }
   ],
   "source": [
    " (df['Cost'] == 5).sum()"
   ]
  },
  {
   "cell_type": "markdown",
   "id": "2e9773d0",
   "metadata": {
    "papermill": {
     "duration": 0.007208,
     "end_time": "2024-04-16T19:08:45.890837",
     "exception": false,
     "start_time": "2024-04-16T19:08:45.883629",
     "status": "completed"
    },
    "tags": []
   },
   "source": [
    "Cost 1 = 22 ; Cost 2 = 20. Cost 3 = 17 ' Cost 4 = 10 ; Cost 5 = 9 "
   ]
  },
  {
   "cell_type": "code",
   "execution_count": 9,
   "id": "2ade8ec3",
   "metadata": {
    "execution": {
     "iopub.execute_input": "2024-04-16T19:08:45.908747Z",
     "iopub.status.busy": "2024-04-16T19:08:45.908255Z",
     "iopub.status.idle": "2024-04-16T19:08:45.916544Z",
     "shell.execute_reply": "2024-04-16T19:08:45.914831Z"
    },
    "papermill": {
     "duration": 0.02242,
     "end_time": "2024-04-16T19:08:45.920893",
     "exception": false,
     "start_time": "2024-04-16T19:08:45.898473",
     "status": "completed"
    },
    "tags": []
   },
   "outputs": [
    {
     "name": "stdout",
     "output_type": "stream",
     "text": [
      "Cost 1 Total = 286\n",
      "Cost 2 Total = 260\n",
      "Cost 3 Total = 221\n",
      "Cost 4 Total = 120\n",
      "Cost 5 Total = 81\n",
      "Total = 968\n"
     ]
    }
   ],
   "source": [
    "print('Cost 1 Total = ' + str(22 * 13))\n",
    "print('Cost 2 Total = ' + str(20 * 13))\n",
    "print('Cost 3 Total = ' + str(17 * 13))\n",
    "print('Cost 4 Total = ' + str(10 * 12))\n",
    "print('Cost 5 Total = ' + str(9 * 9))\n",
    "print ('Total = ' + str(286+260+221+120+81))"
   ]
  },
  {
   "cell_type": "code",
   "execution_count": 10,
   "id": "1f0db6f9",
   "metadata": {
    "execution": {
     "iopub.execute_input": "2024-04-16T19:08:45.939264Z",
     "iopub.status.busy": "2024-04-16T19:08:45.938753Z",
     "iopub.status.idle": "2024-04-16T19:08:45.948696Z",
     "shell.execute_reply": "2024-04-16T19:08:45.946885Z"
    },
    "papermill": {
     "duration": 0.022683,
     "end_time": "2024-04-16T19:08:45.952123",
     "exception": false,
     "start_time": "2024-04-16T19:08:45.929440",
     "status": "completed"
    },
    "tags": []
   },
   "outputs": [
    {
     "name": "stdout",
     "output_type": "stream",
     "text": [
      "weight of the Cost 1  = 0.6092307692307691\n",
      "weight of the Cost 2  = 0.9307692307692308\n",
      "weight of the Cost 3  = 1.0950226244343892\n",
      "weight of the Cost 4  = 1.452\n",
      "weight of the Cost 5  = 0.3585185185185185\n"
     ]
    }
   ],
   "source": [
    "Weight1 = 0.18 / (286 / 968)\n",
    "Weight2 = 0.25 / (260 / 968)\n",
    "Weight3 = 0.25 / (221 / 968)\n",
    "Weight4 = 0.18 / (120 / 968)\n",
    "Weight5 = 0.03 / (81 / 968)\n",
    "\n",
    "print('weight of the Cost 1  = ' + str(Weight1))\n",
    "print('weight of the Cost 2  = ' + str(Weight2))\n",
    "print('weight of the Cost 3  = ' + str(Weight3))\n",
    "print('weight of the Cost 4  = ' + str(Weight4))\n",
    "print('weight of the Cost 5  = ' + str(Weight5))\n",
    "\n"
   ]
  },
  {
   "cell_type": "code",
   "execution_count": 11,
   "id": "d685f036",
   "metadata": {
    "execution": {
     "iopub.execute_input": "2024-04-16T19:08:45.972237Z",
     "iopub.status.busy": "2024-04-16T19:08:45.970727Z",
     "iopub.status.idle": "2024-04-16T19:08:54.360870Z",
     "shell.execute_reply": "2024-04-16T19:08:54.359639Z"
    },
    "papermill": {
     "duration": 8.403331,
     "end_time": "2024-04-16T19:08:54.363458",
     "exception": false,
     "start_time": "2024-04-16T19:08:45.960127",
     "status": "completed"
    },
    "tags": []
   },
   "outputs": [
    {
     "name": "stdout",
     "output_type": "stream",
     "text": [
      "{'300-350': 1098, '350-400': 1177, '400-450': 1085, '450-500': 911}\n"
     ]
    }
   ],
   "source": [
    "import numpy as np\n",
    "\n",
    "def draw_special_card(probability_of_special=0.22):\n",
    "    \"\"\"Determines if a special card is drawn.\"\"\"\n",
    "    return np.random.random() < probability_of_special\n",
    "\n",
    "def draw_ABC_card_if_special(drawn, total_special=60, total_ABC=7):\n",
    "    \"\"\"Given a special card is drawn, determines if it's an ABC card.\"\"\"\n",
    "    if drawn:\n",
    "        return np.random.random() < (total_ABC / total_special)\n",
    "    return False\n",
    "\n",
    "def simulate_draws_for_ABC(simulations):\n",
    "    draws_needed = []\n",
    "    for _ in range(simulations):\n",
    "        ABC_cards_collected = set()\n",
    "        draws = 0\n",
    "        while len(ABC_cards_collected) < 6:\n",
    "            draws += 1\n",
    "            if draw_special_card():\n",
    "                if draw_ABC_card_if_special(True):\n",
    "                    # Assume each ABC card has an equal chance to be drawn\n",
    "                    ABC_cards_collected.add(np.random.randint(1, 8))\n",
    "        draws_needed.append(draws)\n",
    "    return draws_needed\n",
    "\n",
    "# Parameters\n",
    "simulations = 10000\n",
    "\n",
    "# Simulation\n",
    "draws_needed = simulate_draws_for_ABC(simulations)\n",
    "\n",
    "# Count the occurrences within the specified ranges\n",
    "range_counts = {\n",
    "    '300-350': sum(300 <= x < 350 for x in draws_needed),\n",
    "    '350-400': sum(350 <= x < 400 for x in draws_needed),\n",
    "    '400-450': sum(400 <= x < 450 for x in draws_needed),\n",
    "    '450-500': sum(450 <= x < 500 for x in draws_needed),\n",
    "}\n",
    "\n",
    "print(range_counts)\n"
   ]
  },
  {
   "cell_type": "code",
   "execution_count": 12,
   "id": "b958c86a",
   "metadata": {
    "execution": {
     "iopub.execute_input": "2024-04-16T19:08:54.379488Z",
     "iopub.status.busy": "2024-04-16T19:08:54.379087Z",
     "iopub.status.idle": "2024-04-16T19:09:02.691078Z",
     "shell.execute_reply": "2024-04-16T19:09:02.689920Z"
    },
    "papermill": {
     "duration": 8.322852,
     "end_time": "2024-04-16T19:09:02.693518",
     "exception": false,
     "start_time": "2024-04-16T19:08:54.370666",
     "status": "completed"
    },
    "tags": []
   },
   "outputs": [
    {
     "data": {
      "text/plain": [
       "435.0"
      ]
     },
     "execution_count": 12,
     "metadata": {},
     "output_type": "execute_result"
    }
   ],
   "source": [
    "import numpy as np\n",
    "\n",
    "def draw_special_card(probability_of_special=0.22):\n",
    "    \"\"\"Determines if a special card is drawn.\"\"\"\n",
    "    return np.random.random() < probability_of_special\n",
    "\n",
    "def draw_ABC_card_if_special(drawn, total_special=60, total_ABC=7):\n",
    "    \"\"\"Given a special card is drawn, determines if it's an ABC card.\"\"\"\n",
    "    if drawn:\n",
    "        return np.random.random() < (total_ABC / total_special)\n",
    "    return False\n",
    "\n",
    "def simulate_draws_for_ABC(simulations):\n",
    "    draws_needed = []\n",
    "    for _ in range(simulations):\n",
    "        ABC_cards_collected = set()\n",
    "        draws = 0\n",
    "        while len(ABC_cards_collected) < 6:\n",
    "            draws += 1\n",
    "            if draw_special_card():\n",
    "                if draw_ABC_card_if_special(True):\n",
    "                    # Assume each ABC card has an equal chance to be drawn\n",
    "                    ABC_cards_collected.add(np.random.randint(1, 8))\n",
    "        draws_needed.append(draws)\n",
    "    return np.mean(draws_needed)\n",
    "\n",
    "\n",
    "# Parameters\n",
    "simulations = 10000\n",
    "\n",
    "# Simulation and Analysis\n",
    "average_draws_needed = simulate_draws_for_ABC(simulations)\n",
    "\n",
    "# Rounding up if there is a decimal\n",
    "average_draws_needed_rounded_up = np.ceil(average_draws_needed)\n",
    "\n",
    "average_draws_needed_rounded_up"
   ]
  },
  {
   "cell_type": "code",
   "execution_count": 13,
   "id": "a4cdc09f",
   "metadata": {
    "execution": {
     "iopub.execute_input": "2024-04-16T19:09:02.709969Z",
     "iopub.status.busy": "2024-04-16T19:09:02.709495Z",
     "iopub.status.idle": "2024-04-16T19:10:05.237216Z",
     "shell.execute_reply": "2024-04-16T19:10:05.235572Z"
    },
    "papermill": {
     "duration": 62.550093,
     "end_time": "2024-04-16T19:10:05.250855",
     "exception": false,
     "start_time": "2024-04-16T19:09:02.700762",
     "status": "completed"
    },
    "tags": []
   },
   "outputs": [
    {
     "name": "stdout",
     "output_type": "stream",
     "text": [
      "{'200-400': 54308, '400-500': 10791, '500-800': 6737}\n"
     ]
    }
   ],
   "source": [
    "import numpy as np\n",
    "\n",
    "def draw_special_card(probability_of_special=0.22):\n",
    "    \"\"\"Determines if a special card is drawn.\"\"\"\n",
    "    return np.random.random() < probability_of_special\n",
    "\n",
    "def draw_ABC_card_if_special(drawn, total_special=60, total_ABC=7):\n",
    "    \"\"\"Given a special card is drawn, determines if it's an ABC card.\"\"\"\n",
    "    if drawn:\n",
    "        return np.random.random() < (total_ABC / total_special)\n",
    "    return False\n",
    "\n",
    "def simulate_draws_for_ABC_counts(simulations, target_draws):\n",
    "    # Initializes a dictionary to hold the count of draws needed within specified ranges\n",
    "    draws_needed_counts = {key: 0 for key in target_draws}\n",
    "    \n",
    "    for _ in range(simulations):\n",
    "        total_special = 60\n",
    "        total_ABC = 7\n",
    "        ABC_cards_collected = set()\n",
    "        draws = 0\n",
    "        while len(ABC_cards_collected) < 5:\n",
    "            draws += 1\n",
    "            if draw_special_card():\n",
    "                if draw_ABC_card_if_special(True, total_special, total_ABC):\n",
    "                    ABC_card = np.random.choice(list(set(range(1, 8)) - ABC_cards_collected))\n",
    "                    ABC_cards_collected.add(ABC_card)\n",
    "                    total_special -= 1\n",
    "                    total_ABC -= 1\n",
    "        \n",
    "        # Check which range the number of draws falls into and increment the corresponding counter\n",
    "        for range_key in draws_needed_counts.keys():\n",
    "            lower_bound, upper_bound = map(int, range_key.split('-'))\n",
    "            if lower_bound <= draws < upper_bound:\n",
    "                draws_needed_counts[range_key] += 1\n",
    "                break  # Break after finding the correct range to avoid multiple counts\n",
    "    \n",
    "    return draws_needed_counts\n",
    "\n",
    "# Parameters\n",
    "simulations = 100000\n",
    "target_draws = ['200-400', '400-500', '500-800']\n",
    "\n",
    "# Simulation\n",
    "draws_needed_counts = simulate_draws_for_ABC_counts(simulations, target_draws)\n",
    "\n",
    "# Uncomment to print the result after moving the code back to the chat for discussion\n",
    "print(draws_needed_counts)\n"
   ]
  },
  {
   "cell_type": "code",
   "execution_count": null,
   "id": "310114c8",
   "metadata": {
    "papermill": {
     "duration": 0.007617,
     "end_time": "2024-04-16T19:10:05.266579",
     "exception": false,
     "start_time": "2024-04-16T19:10:05.258962",
     "status": "completed"
    },
    "tags": []
   },
   "outputs": [],
   "source": []
  }
 ],
 "metadata": {
  "kaggle": {
   "accelerator": "none",
   "dataSources": [
    {
     "datasetId": 4528273,
     "sourceId": 7788971,
     "sourceType": "datasetVersion"
    }
   ],
   "dockerImageVersionId": 30673,
   "isGpuEnabled": false,
   "isInternetEnabled": false,
   "language": "python",
   "sourceType": "notebook"
  },
  "kernelspec": {
   "display_name": "Python 3",
   "language": "python",
   "name": "python3"
  },
  "language_info": {
   "codemirror_mode": {
    "name": "ipython",
    "version": 3
   },
   "file_extension": ".py",
   "mimetype": "text/x-python",
   "name": "python",
   "nbconvert_exporter": "python",
   "pygments_lexer": "ipython3",
   "version": "3.10.13"
  },
  "papermill": {
   "default_parameters": {},
   "duration": 85.325692,
   "end_time": "2024-04-16T19:10:05.897737",
   "environment_variables": {},
   "exception": null,
   "input_path": "__notebook__.ipynb",
   "output_path": "__notebook__.ipynb",
   "parameters": {},
   "start_time": "2024-04-16T19:08:40.572045",
   "version": "2.5.0"
  }
 },
 "nbformat": 4,
 "nbformat_minor": 5
}
