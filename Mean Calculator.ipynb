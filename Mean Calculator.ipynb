{
 "cells": [
  {
   "cell_type": "code",
   "execution_count": 4,
   "id": "43d25f56",
   "metadata": {},
   "outputs": [
    {
     "name": "stdout",
     "output_type": "stream",
     "text": [
      "Number of scenarios found: 339\n",
      "Example scenario: [72 72 69 70 67 66 73 63 60 73 57 58 57 68 72 72 64 69 70 71]\n",
      "Median of example scenario: 69.0\n",
      "Estimated median range: 65.0 - 70.0\n",
      "Median: 65.0, Count: 1, Percentage: 0.29%\n",
      "Median: 66.0, Count: 1, Percentage: 0.29%\n",
      "Median: 66.5, Count: 8, Percentage: 2.36%\n",
      "Median: 67.0, Count: 38, Percentage: 11.21%\n",
      "Median: 67.5, Count: 48, Percentage: 14.16%\n",
      "Median: 68.0, Count: 84, Percentage: 24.78%\n",
      "Median: 68.5, Count: 76, Percentage: 22.42%\n",
      "Median: 69.0, Count: 59, Percentage: 17.40%\n",
      "Median: 69.5, Count: 13, Percentage: 3.83%\n",
      "Median: 70.0, Count: 11, Percentage: 3.24%\n"
     ]
    }
   ],
   "source": [
    "import numpy as np\n",
    "from collections import Counter\n",
    "# Given values\n",
    "low = 57\n",
    "high = 73\n",
    "mean = 67.5\n",
    "num_students = 20\n",
    "\n",
    "# Generate possible scenarios\n",
    "np.random.seed(0)  # For reproducibility\n",
    "scenarios = []\n",
    "for _ in range(10000):  # Generate 10,000 possible scenarios\n",
    "    scores = np.random.randint(low, high + 1, num_students)\n",
    "    if np.isclose(np.mean(scores), mean, atol=0.5):  # Check if mean is close to the desired mean\n",
    "        scenarios.append(scores)\n",
    "\n",
    "# Calculate medians of the scenarios\n",
    "medians = [np.median(scenario) for scenario in scenarios]\n",
    "\n",
    "# Display some results\n",
    "print(f\"Number of scenarios found: {len(scenarios)}\")\n",
    "if len(scenarios) > 0:\n",
    "    print(f\"Example scenario: {scenarios[0]}\")\n",
    "    print(f\"Median of example scenario: {medians[0]}\")\n",
    "    print(f\"Estimated median range: {min(medians)} - {max(medians)}\")\n",
    "else:\n",
    "    print(\"No scenarios found that match the criteria.\")\n",
    "\n",
    "# Count occurrences of each median\n",
    "median_counts = Counter(medians)\n",
    "    \n",
    "# Calculate and print the percentage of appearance for each median\n",
    "total_scenarios = len(medians)\n",
    "for median, count in sorted(median_counts.items()):\n",
    "    percentage = (count / total_scenarios) * 100\n",
    "    print(f\"Median: {median}, Count: {count}, Percentage: {percentage:.2f}%\")\n",
    "\n"
   ]
  },
  {
   "cell_type": "code",
   "execution_count": null,
   "id": "a6184b2c",
   "metadata": {},
   "outputs": [],
   "source": []
  }
 ],
 "metadata": {
  "kernelspec": {
   "display_name": "Python 3 (ipykernel)",
   "language": "python",
   "name": "python3"
  },
  "language_info": {
   "codemirror_mode": {
    "name": "ipython",
    "version": 3
   },
   "file_extension": ".py",
   "mimetype": "text/x-python",
   "name": "python",
   "nbconvert_exporter": "python",
   "pygments_lexer": "ipython3",
   "version": "3.10.9"
  }
 },
 "nbformat": 4,
 "nbformat_minor": 5
}
